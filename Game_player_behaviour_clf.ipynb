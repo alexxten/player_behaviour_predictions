{
 "cells": [
  {
   "cell_type": "markdown",
   "metadata": {},
   "source": [
    "# Preparing the data"
   ]
  },
  {
   "cell_type": "code",
   "execution_count": 34,
   "metadata": {},
   "outputs": [],
   "source": [
    "import numpy as np"
   ]
  },
  {
   "cell_type": "code",
   "execution_count": 35,
   "metadata": {},
   "outputs": [],
   "source": [
    "#Dataset\n",
    "train1 = np.array([[2, 0, 0, 0, \"Уворачиваться\"],\n",
    "                [2,0 , 0 ,1, \"Уворачиваться\"],\n",
    "                [2, 0, 1, 1,\"Атаковать\"],\n",
    "                [2, 0, 1, 2, \"Атаковать\"],\n",
    "                [2, 1, 0, 2, \"Прятаться\"],\n",
    "                [2, 1, 0, 1, \"Атаковать\"],\n",
    "                [1, 0, 0, 0, \"Уворачиваться\"],\n",
    "                [1, 0, 0, 1, \"Прятаться\"],\n",
    "                [1, 0, 1, 1, \"Атаковать\"],\n",
    "                [1, 0, 1, 2, \"Прятаться\"],\n",
    "                [1, 1, 0, 2, \"Прятаться\"],\n",
    "                [1, 1, 0, 1, \"Прятаться\"],\n",
    "                [0, 0, 0, 0, \"Уворачиваться\"],\n",
    "                [0, 0, 0, 1, \"Прятаться\"],\n",
    "                [0, 0, 1, 1, \"Прятаться\"],\n",
    "                [0, 0, 1, 2, \"Бежать\"],\n",
    "                [0, 1, 0, 2, \"Бежать\"],\n",
    "                [0, 1, 0, 1, \"Прятаться\"]])\n",
    "\n",
    "test1 = np.array([[2, 1, 1, 1, \"Атаковать\"],\n",
    "                    [1, 1, 1, 2, \"Прятаться\"],\n",
    "                    [0, 0, 0, 0, \"Уворачиваться\"],\n",
    "                    [0, 1, 1, 1, \"Прятаться\"],\n",
    "                    [2, 0, 1, 3, \"Прятаться\"],\n",
    "                    [2, 1, 0,3, \"Прятаться\"],\n",
    "                    [2, 0, 1, 3, \"Бежать\"]])"
   ]
  },
  {
   "cell_type": "code",
   "execution_count": 36,
   "metadata": {},
   "outputs": [],
   "source": [
    "y_train1 = train1[:, -1]\n",
    "y_test1 = test1[:, -1]\n",
    "X_train1 = train1[:, [0, 1, 2, 3]]\n",
    "X_test1 = test1[:, [0, 1, 2, 3]]"
   ]
  },
  {
   "cell_type": "markdown",
   "metadata": {},
   "source": [
    "# Models and predictions"
   ]
  },
  {
   "cell_type": "markdown",
   "metadata": {},
   "source": [
    "## DecisionTree"
   ]
  },
  {
   "cell_type": "code",
   "execution_count": 37,
   "metadata": {},
   "outputs": [],
   "source": [
    "from sklearn.tree import DecisionTreeClassifier\n",
    "from sklearn import metrics"
   ]
  },
  {
   "cell_type": "code",
   "execution_count": 38,
   "metadata": {},
   "outputs": [
    {
     "data": {
      "text/plain": [
       "DecisionTreeClassifier(class_weight='balanced', criterion='entropy',\n",
       "                       max_depth=None, max_features=None, max_leaf_nodes=None,\n",
       "                       min_impurity_decrease=0.0, min_impurity_split=None,\n",
       "                       min_samples_leaf=1, min_samples_split=2,\n",
       "                       min_weight_fraction_leaf=0.0, presort=False,\n",
       "                       random_state=None, splitter='best')"
      ]
     },
     "execution_count": 38,
     "metadata": {},
     "output_type": "execute_result"
    }
   ],
   "source": [
    "DT = DecisionTreeClassifier(class_weight = \"balanced\", criterion = \"entropy\")\n",
    "DT.fit(X_train1, y_train1)"
   ]
  },
  {
   "cell_type": "code",
   "execution_count": 39,
   "metadata": {},
   "outputs": [],
   "source": [
    "y_pred_DT = DT.predict(X_test1)"
   ]
  },
  {
   "cell_type": "code",
   "execution_count": 40,
   "metadata": {},
   "outputs": [
    {
     "data": {
      "text/plain": [
       "0.7142857142857143"
      ]
     },
     "execution_count": 40,
     "metadata": {},
     "output_type": "execute_result"
    }
   ],
   "source": [
    "scoreDT = metrics.accuracy_score(y_test1, y_pred_DT)\n",
    "scoreDT"
   ]
  },
  {
   "cell_type": "markdown",
   "metadata": {},
   "source": [
    "## Pytorch neural network"
   ]
  },
  {
   "cell_type": "code",
   "execution_count": 41,
   "metadata": {},
   "outputs": [],
   "source": [
    "import torch"
   ]
  },
  {
   "cell_type": "code",
   "execution_count": 42,
   "metadata": {},
   "outputs": [],
   "source": [
    "#Dataset with coded categorical features\n",
    "# Уворачиваться= 1, Атаковать = 2, Прятаться = 3, Бежать = 0\n",
    "train2 = np.array([[2, 0, 0, 0, 1],\n",
    "                [2,0 , 0 ,1, 1],\n",
    "                [2, 0, 1, 1,2],\n",
    "                [2, 0, 1, 2, 2],\n",
    "                [2, 1, 0, 2, 3],\n",
    "                [2, 1, 0, 1, 2],\n",
    "                [1, 0, 0, 0, 1],\n",
    "                [1, 0, 0, 1, 3],\n",
    "                [1, 0, 1, 1, 2],\n",
    "                [1, 0, 1, 2, 3],\n",
    "                [1, 1, 0, 2, 3],\n",
    "                [1, 1, 0, 1, 3],\n",
    "                [0, 0, 0, 0, 1],\n",
    "                [0, 0, 0, 1, 3],\n",
    "                [0, 0, 1, 1, 3],\n",
    "                [0, 0, 1, 2, 0],\n",
    "                [0, 1, 0, 2, 0],\n",
    "                [0, 1, 0, 1, 3]])\n",
    "\n",
    "test2 = np.array([[2, 1, 1, 1, 2],\n",
    "                    [1, 1, 1, 2, 3],\n",
    "                    [0, 0, 0, 0, 1],\n",
    "                    [0, 1, 1, 1, 3],\n",
    "                    [2, 0, 1, 3, 3],\n",
    "                    [2, 1, 0,3, 3],\n",
    "                    [2, 0, 1, 3, 0]])"
   ]
  },
  {
   "cell_type": "code",
   "execution_count": 43,
   "metadata": {},
   "outputs": [],
   "source": [
    "y_train2 = train2[:, -1]\n",
    "y_test2 = test2[:, -1]\n",
    "X_train2 = train2[:, [0, 1, 2, 3]]\n",
    "X_test2 = test2[:, [0, 1, 2, 3]]"
   ]
  },
  {
   "cell_type": "code",
   "execution_count": 45,
   "metadata": {},
   "outputs": [],
   "source": [
    "# Transform data into TorchTensor\n",
    "X_train2 = torch.from_numpy(X_train2).float()\n",
    "X_test2 = torch.from_numpy(X_test2).float()\n",
    "y_train2 = torch.from_numpy(y_train2)\n",
    "y_test2 = torch.from_numpy(y_test2)"
   ]
  },
  {
   "cell_type": "code",
   "execution_count": 67,
   "metadata": {},
   "outputs": [],
   "source": [
    "#Init neural network class\n",
    "class NN(torch.nn.Module):\n",
    "    def __init__(self, n_hidden_neurons):\n",
    "        super(NN, self).__init__()\n",
    "        \n",
    "        self.fc1 = torch.nn.Linear(4, n_hidden_neurons)\n",
    "        self.activ1 = torch.nn.Sigmoid()\n",
    "        self.fc2 = torch.nn.Linear(n_hidden_neurons, 4)\n",
    "        self.sm = torch.nn.Sigmoid()\n",
    "        \n",
    "    def forward(self, x):\n",
    "        x = self.fc1(x)\n",
    "        x = self.activ1(x)\n",
    "        x = self.fc2(x)\n",
    "        return x\n",
    "\n",
    "    def inference(self, x):\n",
    "        x = self.forward(x)\n",
    "        x = self.sm(x)\n",
    "        return x\n",
    "    "
   ]
  },
  {
   "cell_type": "code",
   "execution_count": 68,
   "metadata": {},
   "outputs": [],
   "source": [
    "#NN with 3 neurons in hidden layer\n",
    "NN = NN(3)"
   ]
  },
  {
   "cell_type": "code",
   "execution_count": 69,
   "metadata": {},
   "outputs": [],
   "source": [
    "loss = torch.nn.CrossEntropyLoss()\n",
    "\n",
    "optimizer = torch.optim.Adam(NN.parameters(), \n",
    "                             lr=1.0e-3)"
   ]
  },
  {
   "cell_type": "code",
   "execution_count": 70,
   "metadata": {},
   "outputs": [
    {
     "name": "stdout",
     "output_type": "stream",
     "text": [
      "tensor(0.2857)\n",
      "tensor(0.5714)\n",
      "tensor(0.5714)\n",
      "tensor(0.5714)\n",
      "tensor(0.5714)\n",
      "tensor(0.5714)\n",
      "tensor(0.7143)\n",
      "tensor(0.8571)\n",
      "tensor(0.8571)\n",
      "tensor(0.8571)\n"
     ]
    }
   ],
   "source": [
    "batch_size = 3\n",
    "\n",
    "for epoch in range(1000):\n",
    "    order = np.random.permutation(len(X_train))\n",
    "    for start_index in range(0, len(X_train), batch_size):\n",
    "        optimizer.zero_grad()\n",
    "        \n",
    "        batch_indexes = order[start_index:start_index+batch_size]\n",
    "        \n",
    "        x_batch = X_train[batch_indexes]\n",
    "        y_batch = y_train[batch_indexes]\n",
    "        \n",
    "        preds = NN.forward(x_batch) \n",
    "        \n",
    "        loss_value = loss(preds, y_batch)\n",
    "        loss_value.backward()\n",
    "        \n",
    "        optimizer.step()\n",
    "        \n",
    "    if epoch % 100 == 0:\n",
    "        test_preds = NN.forward(X_test)\n",
    "        test_preds = test_preds.argmax(dim=1)\n",
    "        print((test_preds == y_test).float().mean())"
   ]
  }
 ],
 "metadata": {
  "kernelspec": {
   "display_name": "Python 3",
   "language": "python",
   "name": "python3"
  },
  "language_info": {
   "codemirror_mode": {
    "name": "ipython",
    "version": 3
   },
   "file_extension": ".py",
   "mimetype": "text/x-python",
   "name": "python",
   "nbconvert_exporter": "python",
   "pygments_lexer": "ipython3",
   "version": "3.7.3"
  }
 },
 "nbformat": 4,
 "nbformat_minor": 2
}
